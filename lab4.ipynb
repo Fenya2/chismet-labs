{
 "cells": [
  {
   "cell_type": "markdown",
   "id": "5f7d7144-9102-4a5a-8522-b09debdb95b7",
   "metadata": {},
   "source": [
    "# Лабораторная работа 5\n",
    "*Сыромятников Дмитрий (КН-301)*"
   ]
  },
  {
   "cell_type": "markdown",
   "id": "797d187a-58db-4610-9f7f-79bcca364850",
   "metadata": {},
   "source": [
    "Вариант $3$ ($A=3$)\n",
    "## Постановка\n",
    "Для функции $f(x)= \\sqrt{1+3cos(x)}$ вычислить приближенное значение интеграла на отрезке $[a,b] = [0, 1]$ используя известные составные квадратурные формулы:\n",
    "1) Средних прямоугольников\n",
    "2) Трапеций\n",
    "3) Симпсона\n",
    "\n",
    "c шагом $h_1 = 0.1$, $h_2 = 0.05$\n",
    "\n",
    "и формулу Гаусса по 6 узлам:\n",
    "\n",
    "|$i$|$x_i$    |$A_i$    |\n",
    "|---|---------|---------|\n",
    "| 0 | 0.033765| 0.085662|\n",
    "| 1 | 0.169395| 0.180381|\n",
    "| 2 | 0.38069 | 0.233957|\n",
    "| 3 | 0.61931 | 0.233957|\n",
    "| 4 | 0.830605| 0.180381|\n",
    "| 5 | 0.966235| 0.085662|\n",
    "\n",
    "Вычислить погрешность измерений, используя правило Рунге"
   ]
  },
  {
   "cell_type": "markdown",
   "id": "1adea061-094d-4f07-9e8e-c3acaf2cf836",
   "metadata": {},
   "source": [
    "## входные данные:"
   ]
  },
  {
   "cell_type": "code",
   "execution_count": 26,
   "id": "71ccc378-4e05-4084-9066-c777eeaed67d",
   "metadata": {},
   "outputs": [],
   "source": [
    "from math import sqrt, cos\n",
    "\n",
    "def f(x):\n",
    "    \"\"\"\n",
    "    :return: значение исследуемой функции в точке x\n",
    "    \"\"\"\n",
    "    return sqrt(1 + 3 * cos(x))\n",
    "\n",
    "\n",
    "# отрезок интегрирования\n",
    "a, b = 0, 1\n",
    "\n",
    "# шаги составной формулы\n",
    "h1 = 0.1\n",
    "h2 = 0.05"
   ]
  },
  {
   "cell_type": "markdown",
   "id": "f8dea10a-6f65-4121-931b-0599f91d9bf5",
   "metadata": {},
   "source": [
    "## Формулы\n",
    "\n",
    "Составная формула средних прямоугольников:\n",
    "\n",
    "$S_n[f] = h \\sum\\limits_{i=0}^{m-1} f(x_{i+\\frac{1}{2}})$\n",
    "\n",
    "Составная формула трапеций:\n",
    "\n",
    "$S_n[f] = \\frac{h}{2} \\sum\\limits_{i=0}^{m-1} (f(x_{i})+f({x_{i+1}}))$\n",
    "\n",
    "Составная формула Симпсона:\n",
    "\n",
    "$S_n[f] = \\frac{h}{6} \\sum\\limits_{i=0}^{m-1} (f(x_{i})+4*f(x_{i+\\frac{1}{2}})+f({x_{i+1}}))$\n",
    "\n",
    "Квадратурная формула Гаусса:\n",
    "\n",
    "$S_n[f] = \\sum\\limits_{i=0}^{m} A_k \\cdot f(x_k)$\n"
   ]
  },
  {
   "cell_type": "markdown",
   "id": "aa043e52-bf96-44af-be2e-751e6d5b08b5",
   "metadata": {},
   "source": [
    "## Функции, вычисляющие приближенное значение интеграла по соответствующим формулам"
   ]
  },
  {
   "cell_type": "code",
   "execution_count": 27,
   "id": "cbba7a21-7574-4f67-9aff-0dd0bfe5b093",
   "metadata": {},
   "outputs": [],
   "source": [
    "def _split(a, b, h):\n",
    "    \"\"\"\n",
    "    :param a: начало отрезка\n",
    "    :param b: конец отрезка\n",
    "    :param h: шаг\n",
    "    :return: равностоящие узлы отрезка [a, b] c расстоянием h\n",
    "    \"\"\"\n",
    "    n = int((b - a) / h)\n",
    "    return [a + h * i for i in range(n + 1)]\n",
    "\n",
    "\n",
    "def avg_rectangles(f, a, b, h):\n",
    "    \"\"\"\n",
    "    :param f: интегрируемая функция\n",
    "    :param a: начало отрезка\n",
    "    :param b: конец отрезка\n",
    "    :param h: расстояние между узлами\n",
    "    :return: приближенное значение определенного интеграла на отрезке [a, b] через равностоящие узлы с расстоянием h,\n",
    "    посчитанное по составной формуле средних прямоугольников\n",
    "    \"\"\"\n",
    "    return h * sum(f(x) for x in _split(a, b, h / 2)[1::2])\n",
    "\n",
    "\n",
    "def trapeze(f, a, b, h):\n",
    "    \"\"\"\n",
    "    :param f: интегрируемая функция\n",
    "    :param a: начало отрезка\n",
    "    :param b: конец отрезка\n",
    "    :param h: расстояние между узлами\n",
    "    :return: приближенное значение определенного интеграла на отрезке [a, b] через равностоящие узлы с расстоянием h,\n",
    "    посчитанное по составной формуле трапеций\n",
    "    \"\"\"\n",
    "    Y = [f(x) for x in _split(a, b, h)]\n",
    "    sum = 0\n",
    "    for i in range(1, len(Y)):\n",
    "        sum += Y[i - 1] * Y[i]\n",
    "    return h / 2 * sum\n",
    "\n",
    "\n",
    "def trapeze_opt(f, a, b, h):\n",
    "    \"\"\"\n",
    "    :param f: интегрируемая функция\n",
    "    :param a: начало отрезка\n",
    "    :param b: конец отрезка\n",
    "    :param h: расстояние между узлами\n",
    "    :return: приближенное значение определенного интеграла на отрезке [a, b] через равностоящие узлы с расстоянием h,\n",
    "    посчитанное по составной формуле трапеций (оптимизированной, зная, что узлы равностоящие)\n",
    "    \"\"\"\n",
    "    Y = [f(x) for x in _split(a, b, h)]\n",
    "    return h / 2 * (Y[0] + Y[-1] + 2 * sum(Y[1:-1]))\n",
    "\n",
    "\n",
    "def simpson(f, a, b, h):\n",
    "    \"\"\"\n",
    "    :param f: интегрируемая функция\n",
    "    :param a: начало отрезка\n",
    "    :param b: конец отрезка\n",
    "    :param h: расстояние между узлами\n",
    "    :return: приближенное значение определенного интеграла на отрезке [a, b] через равностоящие узлы с расстоянием h,\n",
    "    посчитанное по составной формуле симпсона\n",
    "    \"\"\"\n",
    "    Y = [f(x) for x in _split(a, b, h / 2)]\n",
    "    sum = 0\n",
    "    for i in range(2, len(Y), 2):\n",
    "        sum += Y[i - 2] + 4 * Y[i - 1] + Y[i]\n",
    "    return h / 6 * sum\n",
    "\n",
    "\n",
    "def gauss_custom(f):\n",
    "    \"\"\"\n",
    "    :return: приближенное значение определенного интеграла на отрезке [0, 1] по 6 узлам, посчитанным через метод гаусса\n",
    "    \"\"\"\n",
    "    X = [0.033765, 0.169395, 0.38069, 0.61931, 0.830605, 0.966235]\n",
    "    A = [0.085662, 0.180381, 0.233957, 0.233957, 0.180381, 0.085662]\n",
    "    return sum(a * f(x) for a, x in zip(A, X))\n"
   ]
  },
  {
   "cell_type": "markdown",
   "id": "0d8b4f81-4679-4493-8814-37622bbbc5ee",
   "metadata": {},
   "source": [
    "## Вычисления"
   ]
  },
  {
   "cell_type": "code",
   "execution_count": 28,
   "id": "c73fb1bd-03a0-47e0-9b87-698c798310e1",
   "metadata": {},
   "outputs": [],
   "source": [
    "avg_rec_h1 = avg_rectangles(f, a, b, h1)\n",
    "avg_rec_h2 = avg_rectangles(f, a, b, h2)\n",
    "\n",
    "trapeze_h1 = trapeze_opt(f, a, b, h1)\n",
    "trapeze_h2 = trapeze_opt(f, a, b, h2)\n",
    "\n",
    "simpson_h1 = simpson(f, a, b, h1)\n",
    "simpson_h2 = simpson(f, a, b, h2)"
   ]
  },
  {
   "cell_type": "code",
   "execution_count": 29,
   "id": "065f6e0c-84b3-4e96-ab09-002e71433604",
   "metadata": {},
   "outputs": [],
   "source": [
    "gauss = gauss_custom(f)"
   ]
  },
  {
   "cell_type": "markdown",
   "id": "a2980c50-01df-47ac-aeff-b440fe3cfc4c",
   "metadata": {},
   "source": [
    "## Погрешность\n",
    "Выбор $h_1$, $h_2$ позволяет воспользоваться правилом Рунге для вычисления погрешности вычислений:\n",
    "\n",
    "$R_{2n}[f] \\approx \\theta \\cdot | S_{2n}[f] - S_n[f] |$\n",
    "\n",
    "|формула                |$\\theta$      |\n",
    "|-----------------------|--------------|\n",
    "|средних прямоугольников|$\\frac{1}{3}$ |\n",
    "|трапеций               |$\\frac{1}{3}$ |\n",
    "|симпсона               |$\\frac{1}{15}$|\n"
   ]
  },
  {
   "cell_type": "code",
   "execution_count": 30,
   "id": "429a5c6d-a2de-47d9-a42a-be9a405839d9",
   "metadata": {},
   "outputs": [],
   "source": [
    "avg_rec_theta = 1 / 3\n",
    "trapeze_theta = 1 / 3\n",
    "simpson_theta = 1 / 15"
   ]
  },
  {
   "cell_type": "code",
   "execution_count": 31,
   "id": "01fb23ea-1828-42f6-b4dc-0c3a056dbdeb",
   "metadata": {},
   "outputs": [],
   "source": [
    "avg_rec_me = avg_rec_theta * abs(avg_rec_h2 - avg_rec_h1)\n",
    "trapeze_me = trapeze_theta * abs(trapeze_h2 - trapeze_h1)\n",
    "simpson_me = simpson_theta * abs(simpson_h2 - simpson_h1)"
   ]
  },
  {
   "cell_type": "markdown",
   "id": "0fd7ae9a-5fe4-4578-9c46-5667191746d8",
   "metadata": {},
   "source": [
    "## Резюмируем"
   ]
  },
  {
   "cell_type": "code",
   "execution_count": 32,
   "id": "de16bbdd-324e-435a-8348-ca52c0b94df8",
   "metadata": {},
   "outputs": [
    {
     "data": {
      "text/html": [
       "<div>\n",
       "<style scoped>\n",
       "    .dataframe tbody tr th:only-of-type {\n",
       "        vertical-align: middle;\n",
       "    }\n",
       "\n",
       "    .dataframe tbody tr th {\n",
       "        vertical-align: top;\n",
       "    }\n",
       "\n",
       "    .dataframe thead th {\n",
       "        text-align: right;\n",
       "    }\n",
       "</style>\n",
       "<table border=\"1\" class=\"dataframe\">\n",
       "  <thead>\n",
       "    <tr style=\"text-align: right;\">\n",
       "      <th></th>\n",
       "      <th>Формула</th>\n",
       "      <th>$h_1$</th>\n",
       "      <th>$h_2$</th>\n",
       "      <th>$R_{2n}[f]$</th>\n",
       "    </tr>\n",
       "  </thead>\n",
       "  <tbody>\n",
       "    <tr>\n",
       "      <th>0</th>\n",
       "      <td>Средние прямоугольники</td>\n",
       "      <td>1.874248</td>\n",
       "      <td>1.874004</td>\n",
       "      <td>8.119608e-05</td>\n",
       "    </tr>\n",
       "    <tr>\n",
       "      <th>1</th>\n",
       "      <td>Трапеции</td>\n",
       "      <td>1.873273</td>\n",
       "      <td>1.873761</td>\n",
       "      <td>1.624079e-04</td>\n",
       "    </tr>\n",
       "    <tr>\n",
       "      <th>2</th>\n",
       "      <td>Симпсон</td>\n",
       "      <td>1.873923</td>\n",
       "      <td>1.873923</td>\n",
       "      <td>1.049588e-09</td>\n",
       "    </tr>\n",
       "  </tbody>\n",
       "</table>\n",
       "</div>"
      ],
      "text/plain": [
       "                  Формула     $h_1$     $h_2$   $R_{2n}[f]$\n",
       "0  Средние прямоугольники  1.874248  1.874004  8.119608e-05\n",
       "1                Трапеции  1.873273  1.873761  1.624079e-04\n",
       "2                 Симпсон  1.873923  1.873923  1.049588e-09"
      ]
     },
     "execution_count": 32,
     "metadata": {},
     "output_type": "execute_result"
    }
   ],
   "source": [
    "import pandas as pd\n",
    "df = pd.DataFrame({\n",
    "    \"Формула\": [\"Средние прямоугольники\", \"Трапеции\", \"Симпсон\"],\n",
    "    \"$h_1$\": [avg_rec_h1, trapeze_h1, simpson_h1],\n",
    "    \"$h_2$\": [avg_rec_h2, trapeze_h2, simpson_h2],\n",
    "    \"$R_{2n}[f]$\": [avg_rec_me, trapeze_me, simpson_me]\n",
    "})\n",
    "df"
   ]
  },
  {
   "cell_type": "code",
   "execution_count": 33,
   "id": "ab455f34-5a4c-4fb7-9a84-195de4f77ecd",
   "metadata": {},
   "outputs": [
    {
     "name": "stdout",
     "output_type": "stream",
     "text": [
      "1.8739229402726814\n"
     ]
    }
   ],
   "source": [
    "print(gauss)"
   ]
  },
  {
   "cell_type": "markdown",
   "id": "87d87b23-f117-45ae-a5b0-211aa8d7a524",
   "metadata": {},
   "source": [
    "# Задание 2\n",
    "Для функции $f(x)= \\frac{1}{1+x^2}$ вычислить приближенное значение интеграла на отрезке $[a,b] = [0, 1]$ используя известные составные квадратурные формулы:\n",
    "1) Средних прямоугольников\n",
    "2) Трапеций\n",
    "3) Симпсона\n",
    "с разбиением отрезка интегрирования по $2, 5, 10, 50, 100$ равностоящим узлам.\n",
    "\n",
    "Построить графики зависимости погрешности измерения от числа узлов для указанных формул.\n",
    "\n",
    "Точное значение искомого интеграла:\n",
    "\n",
    "$\\int_0^1f(x)dx = \\frac{\\pi}{4}$"
   ]
  },
  {
   "cell_type": "markdown",
   "id": "f01d2df9-f573-4aff-ace2-eccda6ec2bef",
   "metadata": {},
   "source": [
    "## входные данные:"
   ]
  },
  {
   "cell_type": "code",
   "execution_count": 46,
   "id": "c9f82c27-3aee-4982-9e04-26d5244993a1",
   "metadata": {},
   "outputs": [],
   "source": [
    "from math import pi as PI\n",
    "from decimal import Decimal as d, getcontext\n",
    "# Устанавливаем точность на 50 значащих цифр\n",
    "getcontext().prec = 100\n",
    "\n",
    "def f(x):\n",
    "    \"\"\"\n",
    "    :return: значение исследуемой функции в точке x\n",
    "    \"\"\"\n",
    "    return d(1) / (d(1) + x * x)\n",
    "\n",
    "# отрезок интегрирования\n",
    "a, b = d(0), d(1)\n",
    "\n",
    "# Точное значение интеграла\n",
    "exact_value = d(PI) / 4\n",
    "\n",
    "M = list(map(d, [2, 5, 10, 50, 100]))\n"
   ]
  },
  {
   "cell_type": "markdown",
   "id": "2a9178db-bb27-426b-8265-4d4f622bb851",
   "metadata": {},
   "source": [
    "## Вспомогательная функция"
   ]
  },
  {
   "cell_type": "code",
   "execution_count": 43,
   "id": "5049976f-467e-45c0-87aa-adcd21ae8e59",
   "metadata": {},
   "outputs": [],
   "source": [
    "def get_h(a, b, m):\n",
    "    \"\"\"\n",
    "    :param a: начало отрезка\n",
    "    :param b: конец отрезка\n",
    "    :param m: число узлов по которым следует разбить отрезок\n",
    "    :return: расстояние между соседними узлами\n",
    "    \"\"\"\n",
    "    return (b - a) / (m - 1)"
   ]
  },
  {
   "cell_type": "markdown",
   "id": "93fa133d-01db-40b9-b18f-c2f1c034521c",
   "metadata": {},
   "source": [
    "## Вычисления"
   ]
  },
  {
   "cell_type": "code",
   "execution_count": 47,
   "id": "e0e204ce-f54b-4539-843a-51abad092799",
   "metadata": {},
   "outputs": [],
   "source": [
    "H = [get_h(a, b, m) for m in M]\n",
    "avg_rectangles(f, a, b, H[0])\n",
    "avg_rec_me = [abs(exact_value - avg_rectangles(f, a, b, h)) for h in H]\n",
    "trapeze_me = [abs(exact_value - trapeze_opt(f, a, b, h)) for h in H]\n",
    "simpson_me = [abs(exact_value - simpson(f, a, b, h)) for h in H]"
   ]
  },
  {
   "cell_type": "markdown",
   "id": "c7047285-c411-4908-b7cd-cff0df4419c8",
   "metadata": {},
   "source": [
    "## Резюмируем"
   ]
  },
  {
   "cell_type": "code",
   "execution_count": 49,
   "id": "1bf66aae-4588-4588-972f-1f4f6adf3f3c",
   "metadata": {},
   "outputs": [
    {
     "data": {
      "image/png": "[encoded data removed]",
      "text/plain": [
       "<Figure size 1000x600 with 1 Axes>"
      ]
     },
     "metadata": {},
     "output_type": "display_data"
    }
   ],
   "source": [
    "import matplotlib.pyplot as plt\n",
    "\n",
    "# Построение графиков\n",
    "plt.figure(figsize=(10, 6))  # Размер графика\n",
    "\n",
    "plt.plot(M, avg_rec_me, marker='o', label='Средние прямоугольники', color='blue')\n",
    "plt.plot(M, trapeze_me, marker='s', label='Трапеции', color='green')\n",
    "plt.plot(M, simpson_me, marker='^', label='Симпсон', color='red')\n",
    "\n",
    "plt.title(\"Погрешности методов численного интегрирования\", fontsize=14)\n",
    "plt.xlabel(\"$M$\", fontsize=12)\n",
    "plt.ylabel(\"Погрешность\", fontsize=12)\n",
    "plt.grid(True, linestyle='--', alpha=0.7)  # Сетка\n",
    "plt.legend()  # Легенда с названиями графиков\n",
    "plt.xscale('log')  # Логарифмическая шкала по X для лучшей видимости (опционально)\n",
    "\n",
    "# Отображение графика\n",
    "plt.tight_layout()\n",
    "plt.show()"
   ]
  },
  {
   "cell_type": "markdown",
   "id": "191bb3b1-773a-4516-b049-cc91f2eb2f73",
   "metadata": {},
   "source": [
    "# Вывод\n",
    "Анализируя значения погрешностей, представленные в таблице в первой части, а также на графике выше, можно сделать вывод, что метод Симпсона обладает наибольшим порядком сходимости среди рассмотренных методов. Из графика также следует, что метод трапеций демонстрирует наименьший порядок сходимости. Также следует отметить, что квадратурная формула Гаусса позволяет достичь высокой точности при меньшем количестве узлов по сравнению с остальными методами."
   ]
  }
 ],
 "metadata": {
  "kernelspec": {
   "display_name": "Python 3 (ipykernel)",
   "language": "python",
   "name": "python3"
  },
  "language_info": {
   "codemirror_mode": {
    "name": "ipython",
    "version": 3
   },
   "file_extension": ".py",
   "mimetype": "text/x-python",
   "name": "python",
   "nbconvert_exporter": "python",
   "pygments_lexer": "ipython3",
   "version": "3.12.7"
  }
 },
 "nbformat": 4,
 "nbformat_minor": 5
}
